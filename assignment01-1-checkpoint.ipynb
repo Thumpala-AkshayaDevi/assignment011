{
 "cells": [
  {
   "cell_type": "code",
   "execution_count": 21,
   "id": "b8b4c511",
   "metadata": {},
   "outputs": [
    {
     "name": "stdout",
     "output_type": "stream",
     "text": [
      "0 1 1 2 3 5 8 13 21 34 "
     ]
    }
   ],
   "source": [
    "x,y=0,1\n",
    "while x<=50:\n",
    "    print(x,end=' ')\n",
    "    x,y=y,x+y"
   ]
  },
  {
   "cell_type": "code",
   "execution_count": null,
   "id": "514f008d",
   "metadata": {},
   "outputs": [],
   "source": []
  }
 ],
 "metadata": {
  "kernelspec": {
   "display_name": "Python 3 (ipykernel)",
   "language": "python",
   "name": "python3"
  },
  "language_info": {
   "codemirror_mode": {
    "name": "ipython",
    "version": 3
   },
   "file_extension": ".py",
   "mimetype": "text/x-python",
   "name": "python",
   "nbconvert_exporter": "python",
   "pygments_lexer": "ipython3",
   "version": "3.10.9"
  }
 },
 "nbformat": 4,
 "nbformat_minor": 5
}
